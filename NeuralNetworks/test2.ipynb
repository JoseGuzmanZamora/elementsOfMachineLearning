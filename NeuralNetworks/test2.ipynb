{
 "cells": [
  {
   "cell_type": "code",
   "execution_count": 1,
   "metadata": {},
   "outputs": [],
   "source": [
    "import neural_net\n",
    "import pandas as pd \n",
    "import pickle \n",
    "import numpy as np\n",
    "import scipy.optimize as op\n",
    "import time\n",
    "import matplotlib.pyplot as plt\n",
    "import matplotlib.image as mpimg"
   ]
  },
  {
   "cell_type": "code",
   "execution_count": 4,
   "metadata": {},
   "outputs": [
    {
     "ename": "MemoryError",
     "evalue": "",
     "output_type": "error",
     "traceback": [
      "\u001b[1;31m---------------------------------------------------------------------------\u001b[0m",
      "\u001b[1;31mMemoryError\u001b[0m                               Traceback (most recent call last)",
      "\u001b[1;32m<ipython-input-4-85762da8687f>\u001b[0m in \u001b[0;36m<module>\u001b[1;34m\u001b[0m\n\u001b[0;32m      1\u001b[0m \u001b[1;32mfrom\u001b[0m \u001b[0mnumpy\u001b[0m \u001b[1;32mimport\u001b[0m \u001b[0mgenfromtxt\u001b[0m\u001b[1;33m\u001b[0m\u001b[1;33m\u001b[0m\u001b[0m\n\u001b[1;32m----> 2\u001b[1;33m \u001b[0mtrain\u001b[0m \u001b[1;33m=\u001b[0m \u001b[0mgenfromtxt\u001b[0m\u001b[1;33m(\u001b[0m\u001b[1;34m'../../mnist_train.csv'\u001b[0m\u001b[1;33m,\u001b[0m \u001b[0mdelimiter\u001b[0m\u001b[1;33m=\u001b[0m\u001b[1;34m','\u001b[0m\u001b[1;33m)\u001b[0m\u001b[1;33m\u001b[0m\u001b[1;33m\u001b[0m\u001b[0m\n\u001b[0m\u001b[0;32m      3\u001b[0m \u001b[1;31m#train = pd.read_csv('../../mnist_train.csv')\u001b[0m\u001b[1;33m\u001b[0m\u001b[1;33m\u001b[0m\u001b[1;33m\u001b[0m\u001b[0m\n",
      "\u001b[1;32md:\\cs7\\venv\\lib\\site-packages\\numpy\\lib\\npyio.py\u001b[0m in \u001b[0;36mgenfromtxt\u001b[1;34m(fname, dtype, comments, delimiter, skip_header, skip_footer, converters, missing_values, filling_values, usecols, names, excludelist, deletechars, replace_space, autostrip, case_sensitive, defaultfmt, unpack, usemask, loose, invalid_raise, max_rows, encoding)\u001b[0m\n\u001b[0;32m   2116\u001b[0m     \u001b[1;32mif\u001b[0m \u001b[0mloose\u001b[0m\u001b[1;33m:\u001b[0m\u001b[1;33m\u001b[0m\u001b[1;33m\u001b[0m\u001b[0m\n\u001b[0;32m   2117\u001b[0m         rows = list(\n\u001b[1;32m-> 2118\u001b[1;33m             zip(*[[conv._loose_call(_r) for _r in map(itemgetter(i), rows)]\n\u001b[0m\u001b[0;32m   2119\u001b[0m                   for (i, conv) in enumerate(converters)]))\n\u001b[0;32m   2120\u001b[0m     \u001b[1;32melse\u001b[0m\u001b[1;33m:\u001b[0m\u001b[1;33m\u001b[0m\u001b[1;33m\u001b[0m\u001b[0m\n",
      "\u001b[1;32md:\\cs7\\venv\\lib\\site-packages\\numpy\\lib\\npyio.py\u001b[0m in \u001b[0;36m<listcomp>\u001b[1;34m(.0)\u001b[0m\n\u001b[0;32m   2116\u001b[0m     \u001b[1;32mif\u001b[0m \u001b[0mloose\u001b[0m\u001b[1;33m:\u001b[0m\u001b[1;33m\u001b[0m\u001b[1;33m\u001b[0m\u001b[0m\n\u001b[0;32m   2117\u001b[0m         rows = list(\n\u001b[1;32m-> 2118\u001b[1;33m             zip(*[[conv._loose_call(_r) for _r in map(itemgetter(i), rows)]\n\u001b[0m\u001b[0;32m   2119\u001b[0m                   for (i, conv) in enumerate(converters)]))\n\u001b[0;32m   2120\u001b[0m     \u001b[1;32melse\u001b[0m\u001b[1;33m:\u001b[0m\u001b[1;33m\u001b[0m\u001b[1;33m\u001b[0m\u001b[0m\n",
      "\u001b[1;32md:\\cs7\\venv\\lib\\site-packages\\numpy\\lib\\npyio.py\u001b[0m in \u001b[0;36m<listcomp>\u001b[1;34m(.0)\u001b[0m\n\u001b[0;32m   2116\u001b[0m     \u001b[1;32mif\u001b[0m \u001b[0mloose\u001b[0m\u001b[1;33m:\u001b[0m\u001b[1;33m\u001b[0m\u001b[1;33m\u001b[0m\u001b[0m\n\u001b[0;32m   2117\u001b[0m         rows = list(\n\u001b[1;32m-> 2118\u001b[1;33m             zip(*[[conv._loose_call(_r) for _r in map(itemgetter(i), rows)]\n\u001b[0m\u001b[0;32m   2119\u001b[0m                   for (i, conv) in enumerate(converters)]))\n\u001b[0;32m   2120\u001b[0m     \u001b[1;32melse\u001b[0m\u001b[1;33m:\u001b[0m\u001b[1;33m\u001b[0m\u001b[1;33m\u001b[0m\u001b[0m\n",
      "\u001b[1;31mMemoryError\u001b[0m: "
     ]
    }
   ],
   "source": [
    "from numpy import genfromtxt\n",
    "train = genfromtxt('../../mnist_train.csv', delimiter=',')\n",
    "#train = pd.read_csv('../../mnist_train.csv')"
   ]
  },
  {
   "cell_type": "code",
   "execution_count": 7,
   "metadata": {},
   "outputs": [],
   "source": [
    "import numpy as np \n",
    "import copy \n",
    "\n",
    "def sigmoid(values):\n",
    "    return 1 / (1 + np.exp(-values))\n",
    "\n",
    "def forward_setup(nodos,X,Y,hidden_layers):\n",
    "    nodos.insert(0,X.shape[1])\n",
    "    nodos.append(len(Y[0]))\n",
    "    nodes = [i + 1 for i in nodos]\n",
    "\n",
    "    # red, mesh de thetas \n",
    "    thetas = []\n",
    "    # por el momento le voy a poner mas 1 por la output layer \n",
    "    for i in range(hidden_layers + 1):\n",
    "        temp_primero = np.expand_dims(np.asarray([(np.random.randint(1,50) / 2000) for i in range(nodes[i])],dtype='float64'),1)\n",
    "        thetas.append(np.matrix(np.asarray(\n",
    "            [temp_primero for i in range(nodos[i + 1])]\n",
    "            )))\n",
    "    return thetas\n",
    "\n",
    "def forward_prop(X,thetas):\n",
    "    inicial = X.T      \n",
    "    trace = [inicial]\n",
    "    for i in range(len(thetas)):\n",
    "        interno = np.matmul(\n",
    "            thetas[i],\n",
    "            np.vstack(\n",
    "                [np.expand_dims(np.ones(trace[i].shape[1]),0),\n",
    "                trace[i]]\n",
    "                )\n",
    "        )\n",
    "        trace.append(sigmoid(interno))\n",
    "    return trace \n",
    "\n",
    "def backward_prop(thetas,shapes,X,Y):\n",
    "    m,_ = X.shape\n",
    "    # regresar a su normalidad \n",
    "    thetas = unflatten_zetas(thetas,shapes)\n",
    "    delta = copy.deepcopy(thetas)\n",
    "    for i in delta: i[:] = 0\n",
    "    activation_trace = forward_prop(X,thetas)\n",
    "    first_delta = activation_trace[-1] - Y.T\n",
    "    deltas = [first_delta]\n",
    "    # backward prop \n",
    "    for i in reversed(range(1,len(thetas))):\n",
    "        first_delta = np.multiply(\n",
    "            np.matmul(thetas[i].T[1:,:],first_delta),\n",
    "            np.multiply(activation_trace[i],(1-activation_trace[i]))\n",
    "            )\n",
    "        deltas.append(first_delta)\n",
    "    deltas.append(None)\n",
    "\n",
    "    deltas = list(reversed(deltas))\n",
    "    for i in range(len(delta)):\n",
    "        temp_shape = activation_trace[i].shape\n",
    "        multi_res = np.matmul(\n",
    "            deltas[i + 1],\n",
    "            np.vstack([np.ones((1,temp_shape[1])),activation_trace[i]]).T\n",
    "            )\n",
    "        delta[i] += multi_res / m\n",
    "    return flatten_zetas(delta)[0]\n",
    "    \n",
    "def flatten_zetas(thetas):\n",
    "    flat_zetas = np.asarray([])\n",
    "    shapes = []\n",
    "    for i in thetas:\n",
    "        shapes.append(i.shape)\n",
    "        flat_zetas = np.concatenate((flat_zetas,np.ravel(i)))\n",
    "    return (flat_zetas,shapes)\n",
    "\n",
    "def unflatten_zetas(flat_thetas,shapes):\n",
    "    res = []\n",
    "    for i in shapes:\n",
    "        cantidad = i[0] * i[1]  \n",
    "        res.append(flat_thetas[:cantidad].reshape(i))\n",
    "    return res \n",
    "\n",
    "def cost(thetas,shapes,X,Y):\n",
    "    thetas = unflatten_zetas(thetas,shapes)\n",
    "    h = forward_prop(X,thetas)[-1]\n",
    "    calculate = (Y * np.log(h).T) + ((1 - Y) * np.log(1 - h).T)\n",
    "    print(np.sum(calculate) / (- X.shape[0]))\n",
    "    return np.sum(calculate) / (- X.shape[0])"
   ]
  },
  {
   "cell_type": "code",
   "execution_count": 8,
   "metadata": {},
   "outputs": [
    {
     "data": {
      "image/png": "[encoded data removed]",
      "text/plain": [
       "<Figure size 432x288 with 1 Axes>"
      ]
     },
     "metadata": {
      "needs_background": "light"
     },
     "output_type": "display_data"
    }
   ],
   "source": [
    "from sklearn import preprocessing\n",
    "\n",
    "y_inicial = np.expand_dims(train[:,0],1)\n",
    "x_inicial = train[:,1:] / 1000\n",
    "#x_inicial = preprocessing.normalize(train[:,1:])\n",
    "test = plt.imshow(train[:,1:][1].reshape(28,28))\n",
    "plt.show()\n",
    "cat = 10\n",
    "introduce_y = (y_inicial == np.arange(cat)).astype(int)"
   ]
  },
  {
   "cell_type": "code",
   "execution_count": 9,
   "metadata": {},
   "outputs": [],
   "source": [
    "nodes_inicio = [2000]\n",
    "thetas = forward_setup(nodes_inicio, x_inicial,introduce_y,len(nodes_inicio))\n",
    "ingreso = flatten_zetas(thetas)"
   ]
  },
  {
   "cell_type": "code",
   "execution_count": null,
   "metadata": {},
   "outputs": [
    {
     "name": "stdout",
     "output_type": "stream",
     "text": [
      "128.78286545655237\n",
      "128.58857764454257\n",
      "127.81254758736206\n",
      "124.72647171011386\n",
      "112.67740808399232\n",
      "69.5613744953824\n",
      "52.84123419774499\n",
      "58.53412691904602\n",
      "67.21440245261815\n",
      "69.06952939577552\n",
      "69.45773138399807\n",
      "69.53949929505107\n",
      "69.5567558097988\n",
      "69.56039924140143\n",
      "69.56116856328617\n",
      "69.56133101114855\n",
      "69.56136531332687\n",
      "69.56137255651515\n",
      "69.56137408597449\n",
      "69.5613744089325\n",
      "69.56137447712776\n",
      "69.56137449152779\n",
      "69.56137449456844\n",
      "69.56137449521052\n",
      "69.5613744953461\n",
      "69.56137449537474\n",
      "61.79085924550473\n",
      "34.26197810609185\n"
     ]
    },
    {
     "name": "stderr",
     "output_type": "stream",
     "text": [
      "c:\\users\\joseg\\onedrive - universidad francisco marroquin\\cs7\\env\\lib\\site-packages\\ipykernel_launcher.py:82: RuntimeWarning: divide by zero encountered in log\n",
      "c:\\users\\joseg\\onedrive - universidad francisco marroquin\\cs7\\env\\lib\\site-packages\\ipykernel_launcher.py:82: RuntimeWarning: invalid value encountered in multiply\n"
     ]
    },
    {
     "name": "stdout",
     "output_type": "stream",
     "text": [
      "nan\n",
      "nan\n",
      "nan\n"
     ]
    },
    {
     "name": "stderr",
     "output_type": "stream",
     "text": [
      "c:\\users\\joseg\\onedrive - universidad francisco marroquin\\cs7\\env\\lib\\site-packages\\ipykernel_launcher.py:5: RuntimeWarning: overflow encountered in exp\n",
      "  \"\"\"\n"
     ]
    },
    {
     "name": "stdout",
     "output_type": "stream",
     "text": [
      "nan\n"
     ]
    }
   ],
   "source": [
    "comienzo = time.time()\n",
    "\n",
    "resultado = op.minimize(\n",
    "    fun=cost,\n",
    "    x0=ingreso[0],\n",
    "    args=(ingreso[1],x_inicial,introduce_y),\n",
    "    method='L-BFGS-B',\n",
    "    jac=backward_prop,\n",
    "    options={\n",
    "        'disp':True,\n",
    "        'maxiter':1300\n",
    "    }\n",
    ")\n",
    "\n",
    "final = time.time()"
   ]
  },
  {
   "cell_type": "code",
   "execution_count": null,
   "metadata": {},
   "outputs": [],
   "source": [
    "print(\"executed in: \",(final - comienzo))"
   ]
  },
  {
   "cell_type": "code",
   "execution_count": 115,
   "metadata": {},
   "outputs": [
    {
     "data": {
      "text/plain": [
       "      fun: 2.7702721232955465\n",
       " hess_inv: <636010x636010 LbfgsInvHessProduct with dtype=float64>\n",
       "      jac: array([-8.27560131e-05,  0.00000000e+00,  0.00000000e+00, ...,\n",
       "       -1.06517422e-03, -4.22403240e-03, -5.60569439e-04])\n",
       "  message: b'CONVERGENCE: REL_REDUCTION_OF_F_<=_FACTR*EPSMCH'\n",
       "     nfev: 47\n",
       "      nit: 11\n",
       "   status: 0\n",
       "  success: True\n",
       "        x: array([ -1.58431913,   0.035     ,   0.028     , ...,  -9.38678139,\n",
       "       -11.99472449,  -7.81884405])"
      ]
     },
     "execution_count": 115,
     "metadata": {},
     "output_type": "execute_result"
    }
   ],
   "source": [
    "hola = resultado.x\n",
    "resultado"
   ]
  },
  {
   "cell_type": "code",
   "execution_count": 119,
   "metadata": {},
   "outputs": [],
   "source": [
    "# test \n",
    "model_thetas = unflatten_zetas(hola,ingreso[1])"
   ]
  },
  {
   "cell_type": "code",
   "execution_count": 120,
   "metadata": {},
   "outputs": [],
   "source": [
    "y_test = np.expand_dims(train[:,0],1)\n",
    "x_test = train[:,1:] / 1000"
   ]
  },
  {
   "cell_type": "code",
   "execution_count": 121,
   "metadata": {},
   "outputs": [],
   "source": [
    "respuestas = forward_prop(x_test,model_thetas)"
   ]
  },
  {
   "cell_type": "code",
   "execution_count": 145,
   "metadata": {},
   "outputs": [
    {
     "name": "stdout",
     "output_type": "stream",
     "text": [
      "4\n"
     ]
    },
    {
     "data": {
      "image/png": "[encoded data removed]",
      "text/plain": [
       "<Figure size 432x288 with 1 Axes>"
      ]
     },
     "metadata": {
      "needs_background": "light"
     },
     "output_type": "display_data"
    },
    {
     "name": "stdout",
     "output_type": "stream",
     "text": [
      "[0.02511535 0.03890323 0.25895956 0.0044337  0.61475877 0.00302271\n",
      " 0.51800015 0.00921657 0.04009997 0.0571762 ]\n"
     ]
    }
   ],
   "source": [
    "number = 20\n",
    "prueba = respuestas[-1][:][:,number]\n",
    "print(np.argmax(prueba))\n",
    "test = plt.imshow(train[:,1:][number].reshape(28,28))\n",
    "plt.show()"
   ]
  },
  {
   "cell_type": "code",
   "execution_count": null,
   "metadata": {},
   "outputs": [],
   "source": []
  }
 ],
 "metadata": {
  "kernelspec": {
   "display_name": "Python 3",
   "language": "python",
   "name": "python3"
  },
  "language_info": {
   "codemirror_mode": {
    "name": "ipython",
    "version": 3
   },
   "file_extension": ".py",
   "mimetype": "text/x-python",
   "name": "python",
   "nbconvert_exporter": "python",
   "pygments_lexer": "ipython3",
   "version": "3.8.1"
  }
 },
 "nbformat": 4,
 "nbformat_minor": 4
}
