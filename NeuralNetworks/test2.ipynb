{
 "cells": [
  {
   "cell_type": "code",
   "execution_count": 1,
   "metadata": {},
   "outputs": [],
   "source": [
    "import neural_net\n",
    "import pandas as pd \n",
    "import pickle \n",
    "import numpy as np\n",
    "import scipy.optimize as op\n",
    "import time"
   ]
  },
  {
   "cell_type": "code",
   "execution_count": 2,
   "metadata": {},
   "outputs": [],
   "source": [
    "from numpy import genfromtxt\n",
    "train = genfromtxt('../../mnist_train.csv', delimiter=',')"
   ]
  },
  {
   "cell_type": "code",
   "execution_count": 5,
   "metadata": {},
   "outputs": [],
   "source": [
    "y_inicial = np.expand_dims(train[:,0],1)\n",
    "x_inicial = train[:,1:] / 1000\n",
    "cat = 10\n",
    "introduce_y = (y_inicial == np.arange(cat)).astype(int)"
   ]
  },
  {
   "cell_type": "code",
   "execution_count": 46,
   "metadata": {},
   "outputs": [],
   "source": [
    "nodes_inicio = [500,500]\n",
    "thetas = neural_net.forward_setup(nodes_inicio, x_inicial,introduce_y,len(nodes_inicio))\n",
    "ingreso = neural_net.flatten_zetas(thetas)"
   ]
  },
  {
   "cell_type": "code",
   "execution_count": 47,
   "metadata": {},
   "outputs": [],
   "source": [
    "comienzo = time.time()\n",
    "\n",
    "resultado = op.minimize(\n",
    "    fun=neural_net.cost,\n",
    "    x0=ingreso[0],\n",
    "    args=(ingreso[1],x_inicial,introduce_y),\n",
    "    method='L-BFGS-B',\n",
    "    jac=neural_net.backward_prop,\n",
    "    options={\n",
    "        'disp':True,\n",
    "        'maxiter':1300\n",
    "    }\n",
    ")\n",
    "\n",
    "guardar = open('./model.txt','wb')\n",
    "pickle.dump(resultado.x,guardar)\n",
    "guardar.close()\n",
    "\n",
    "final = time.time()"
   ]
  },
  {
   "cell_type": "code",
   "execution_count": 48,
   "metadata": {},
   "outputs": [
    {
     "name": "stdout",
     "output_type": "stream",
     "text": [
      "executed in:  236.108736038208\n"
     ]
    }
   ],
   "source": [
    "print(\"executed in: \",(final - comienzo))"
   ]
  },
  {
   "cell_type": "code",
   "execution_count": 49,
   "metadata": {},
   "outputs": [
    {
     "data": {
      "text/plain": [
       "      fun: nan\n",
       " hess_inv: <648010x648010 LbfgsInvHessProduct with dtype=float64>\n",
       "      jac: array([0.     , 0.     , 0.     , ..., 0.90085, 0.90085, 0.90085])\n",
       "  message: b'ABNORMAL_TERMINATION_IN_LNSRCH'\n",
       "     nfev: 21\n",
       "      nit: 0\n",
       "   status: 2\n",
       "  success: False\n",
       "        x: array([0.21235399, 0.12526667, 0.06002593, ..., 0.6988429 , 0.70954481,\n",
       "       0.40243746])"
      ]
     },
     "execution_count": 49,
     "metadata": {},
     "output_type": "execute_result"
    }
   ],
   "source": [
    "hola = resultado.x\n",
    "resultado"
   ]
  },
  {
   "cell_type": "code",
   "execution_count": 50,
   "metadata": {},
   "outputs": [],
   "source": [
    "# test \n",
    "model_thetas = neural_net.unflatten_zetas(hola,ingreso[1])"
   ]
  },
  {
   "cell_type": "code",
   "execution_count": 51,
   "metadata": {},
   "outputs": [],
   "source": [
    "y_test = np.expand_dims(train[:,0],1)\n",
    "x_test = train[:,1:] / 1000"
   ]
  },
  {
   "cell_type": "code",
   "execution_count": 52,
   "metadata": {},
   "outputs": [],
   "source": [
    "respuestas = neural_net.forward_prop(x_test,model_thetas)"
   ]
  },
  {
   "cell_type": "code",
   "execution_count": 53,
   "metadata": {},
   "outputs": [
    {
     "name": "stdout",
     "output_type": "stream",
     "text": [
      "[1. 1. 1. ... 1. 1. 1.]\n",
      "[1. 1. 1. ... 1. 1. 1.]\n",
      "[1. 1. 1. ... 1. 1. 1.]\n",
      "[1. 1. 1. ... 1. 1. 1.]\n",
      "[1. 1. 1. ... 1. 1. 1.]\n",
      "[1. 1. 1. ... 1. 1. 1.]\n",
      "[1. 1. 1. ... 1. 1. 1.]\n",
      "[1. 1. 1. ... 1. 1. 1.]\n",
      "[1. 1. 1. ... 1. 1. 1.]\n",
      "[1. 1. 1. ... 1. 1. 1.]\n"
     ]
    }
   ],
   "source": [
    "for i in respuestas[-1][:][:50]:\n",
    "    print(i)"
   ]
  },
  {
   "cell_type": "code",
   "execution_count": null,
   "metadata": {},
   "outputs": [],
   "source": []
  }
 ],
 "metadata": {
  "kernelspec": {
   "display_name": "Python 3",
   "language": "python",
   "name": "python3"
  },
  "language_info": {
   "codemirror_mode": {
    "name": "ipython",
    "version": 3
   },
   "file_extension": ".py",
   "mimetype": "text/x-python",
   "name": "python",
   "nbconvert_exporter": "python",
   "pygments_lexer": "ipython3",
   "version": "3.7.7"
  }
 },
 "nbformat": 4,
 "nbformat_minor": 4
}
