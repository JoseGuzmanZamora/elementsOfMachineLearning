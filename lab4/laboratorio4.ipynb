{
 "cells": [
  {
   "cell_type": "code",
   "execution_count": 1,
   "metadata": {},
   "outputs": [],
   "source": [
    "import neural_net\n",
    "import pandas as pd \n",
    "import pickle \n",
    "import numpy as np\n",
    "import scipy.optimize as op\n",
    "import time\n",
    "import matplotlib.pyplot as plt\n",
    "import matplotlib.image as mpimg"
   ]
  },
  {
   "cell_type": "code",
   "execution_count": 2,
   "metadata": {},
   "outputs": [],
   "source": [
    "# some_file.py\n",
    "import sys\n",
    "# insert at 1, 0 is the script path (or '' in REPL)\n",
    "sys.path.insert(1, '../../fashion-mnist/utils')\n",
    "\n",
    "import mnist_reader"
   ]
  },
  {
   "cell_type": "code",
   "execution_count": 3,
   "metadata": {},
   "outputs": [],
   "source": [
    "x_train, y_train = mnist_reader.load_mnist('../../fmnist', kind='train')\n",
    "x_test, y_test = mnist_reader.load_mnist('../../fmnist', kind='t10k')"
   ]
  },
  {
   "cell_type": "code",
   "execution_count": 4,
   "metadata": {},
   "outputs": [],
   "source": [
    "# para no estar recargando \n",
    "import numpy as np \n",
    "import copy \n",
    "\n",
    "def sigmoid(values):\n",
    "    return 1 / (1 + np.exp(-values))\n",
    "\n",
    "def forward_setup(nodos,X,Y,hidden_layers):\n",
    "    nodos.insert(0,X.shape[1])\n",
    "    nodos.append(len(Y[0]))\n",
    "    nodes = [i + 1 for i in nodos]\n",
    "\n",
    "    # red, mesh de thetas \n",
    "    thetas = []\n",
    "    # por el momento le voy a poner mas 1 por la output layer \n",
    "    for i in range(hidden_layers + 1):\n",
    "        temp_primero = np.expand_dims(np.asarray([(np.random.randint(1,10) / 1000) for i in range(nodes[i])],dtype='float64'),1)\n",
    "        thetas.append(np.matrix(np.asarray(\n",
    "            [temp_primero for i in range(nodos[i + 1])]\n",
    "            )))\n",
    "    return thetas\n",
    "\n",
    "def forward_prop(X,thetas):\n",
    "    inicial = X.T      \n",
    "    trace = [inicial]\n",
    "    for i in range(len(thetas)):\n",
    "        interno = np.matmul(\n",
    "            thetas[i],\n",
    "            np.vstack(\n",
    "                [np.expand_dims(np.ones(trace[i].shape[1]),0),\n",
    "                trace[i]]\n",
    "                )\n",
    "        )\n",
    "        trace.append(sigmoid(interno))\n",
    "    return trace \n",
    "\n",
    "def backward_prop(thetas,shapes,X,Y):\n",
    "    m,_ = X.shape\n",
    "    # regresar a su normalidad \n",
    "    thetas = unflatten_zetas(thetas,shapes)\n",
    "    delta = copy.deepcopy(thetas)\n",
    "    for i in delta: i[:] = 0\n",
    "    activation_trace = forward_prop(X,thetas)\n",
    "    first_delta = activation_trace[-1] - Y.T\n",
    "    deltas = [first_delta]\n",
    "    # backward prop \n",
    "    for i in reversed(range(1,len(thetas))):\n",
    "        first_delta = np.multiply(\n",
    "            np.matmul(thetas[i].T[1:,:],first_delta),\n",
    "            np.multiply(activation_trace[i],(1-activation_trace[i]))\n",
    "            )\n",
    "        deltas.append(first_delta)\n",
    "    deltas.append(None)\n",
    "\n",
    "    deltas = list(reversed(deltas))\n",
    "    for i in range(len(delta)):\n",
    "        temp_shape = activation_trace[i].shape\n",
    "        multi_res = np.matmul(\n",
    "            deltas[i + 1],\n",
    "            np.vstack([np.ones((1,temp_shape[1])),activation_trace[i]]).T\n",
    "            )\n",
    "        delta[i] += multi_res / m\n",
    "    return flatten_zetas(delta)[0]\n",
    "    \n",
    "def flatten_zetas(thetas):\n",
    "    flat_zetas = np.asarray([])\n",
    "    shapes = []\n",
    "    for i in thetas:\n",
    "        shapes.append(i.shape)\n",
    "        flat_zetas = np.concatenate((flat_zetas,np.ravel(i)))\n",
    "    return (flat_zetas,shapes)\n",
    "\n",
    "def unflatten_zetas(flat_thetas,shapes):\n",
    "    res = []\n",
    "    for i in shapes:\n",
    "        cantidad = i[0] * i[1]  \n",
    "        res.append(flat_thetas[:cantidad].reshape(i))\n",
    "    return res \n",
    "\n",
    "def cost(thetas,shapes,X,Y):\n",
    "    thetas = unflatten_zetas(thetas,shapes)\n",
    "    h = forward_prop(X,thetas)[-1]\n",
    "    calculate = (Y * np.log(h).T) + ((1 - Y) * np.log(1 - h).T)\n",
    "    print(np.sum(calculate) / (- X.shape[0]))\n",
    "    return np.sum(calculate) / (- X.shape[0])"
   ]
  },
  {
   "cell_type": "code",
   "execution_count": 5,
   "metadata": {},
   "outputs": [
    {
     "data": {
      "image/png": "[encoded data removed]",
      "text/plain": [
       "<Figure size 432x288 with 1 Axes>"
      ]
     },
     "metadata": {
      "needs_background": "light"
     },
     "output_type": "display_data"
    },
    {
     "name": "stdout",
     "output_type": "stream",
     "text": [
      "9\n"
     ]
    }
   ],
   "source": [
    "# un poco de transformaciones iniciales \n",
    "verificacion = plt.imshow(x_train[0].reshape(28,28))\n",
    "plt.show()\n",
    "print(y_train[0])\n",
    "x_train_ingreso = x_train / 1000\n",
    "x_test_ingreso = x_test / 1000\n",
    "categorias = 10\n",
    "y_train_ingreso = (np.expand_dims(y_train,1) == np.arange(categorias)).astype(int)\n",
    "y_test_ingreso = (np.expand_dims(y_test,1) == np.arange(categorias)).astype(int)"
   ]
  },
  {
   "cell_type": "code",
   "execution_count": 6,
   "metadata": {},
   "outputs": [],
   "source": [
    "architecture = [800]\n",
    "thetas = forward_setup(architecture,x_train_ingreso, y_train_ingreso, len(architecture))\n",
    "flat_thetas = flatten_zetas(thetas)"
   ]
  },
  {
   "cell_type": "code",
   "execution_count": null,
   "metadata": {},
   "outputs": [
    {
     "name": "stdout",
     "output_type": "stream",
     "text": [
      "20.92206789267457\n",
      "20.841028823281363\n",
      "20.518707683453563\n",
      "19.25936731560811\n",
      "14.735314900701068\n",
      "7.401113301245769\n",
      "12.545481539980429\n",
      "14.259901043020225\n",
      "14.634620792502005\n",
      "14.714035881873357\n",
      "14.73081972976276\n",
      "14.73436536577644\n",
      "14.7351143290864\n",
      "14.735272533800572\n",
      "14.735305951512913\n",
      "14.735313010358439\n",
      "14.735314501402822\n",
      "14.73531481635705\n",
      "14.73531488288503\n",
      "14.735314896937775\n",
      "14.735314899906141\n",
      "14.73531490053315\n",
      "14.735314900665598\n",
      "14.735314900693577\n",
      "14.735314900699477\n",
      "12.936968574671528\n",
      "7.5906425767739805\n",
      "5.7537722008767505\n",
      "7.096751654505773\n",
      "7.482130106249781\n",
      "7.567551194458766\n",
      "7.585758357479987\n",
      "7.589610765204665\n",
      "7.590424659206238\n",
      "7.590596555336914\n",
      "7.590632857740928\n",
      "7.590640524265898\n",
      "7.590642143316533\n",
      "7.59064248523459\n",
      "7.590642557442306\n",
      "7.590642572691437\n",
      "7.5906425759118115\n",
      "7.590642576591906\n",
      "7.590642576735534\n",
      "7.590642576765859\n",
      "7.590642576772267\n",
      "7.590642576773621\n",
      "7.215847224019374\n",
      "5.931559371164798\n",
      "6.8899304514129005\n",
      "6.235062762744849\n",
      "6.737571436349814\n",
      "6.857049136643522\n",
      "5.409322385354243\n",
      "6.398024835445003\n",
      "6.754924919999637\n"
     ]
    }
   ],
   "source": [
    "start = time.time()\n",
    "\n",
    "res = op.minimize(\n",
    "    fun=cost,\n",
    "    x0=flat_thetas[0],\n",
    "    args=(flat_thetas[1],x_train_ingreso,y_train_ingreso),\n",
    "    method='L-BFGS-B',\n",
    "    jac=backward_prop,\n",
    "    options={\n",
    "        'disp':True,\n",
    "        'maxiter':1300\n",
    "    }\n",
    ")\n",
    "\n",
    "end = time.time()"
   ]
  },
  {
   "cell_type": "code",
   "execution_count": null,
   "metadata": {},
   "outputs": [],
   "source": [
    "res"
   ]
  },
  {
   "cell_type": "code",
   "execution_count": null,
   "metadata": {},
   "outputs": [],
   "source": [
    "with open('model.txt', 'wb') as f:\n",
    "    pickle.dump(res, f)"
   ]
  },
  {
   "cell_type": "code",
   "execution_count": null,
   "metadata": {},
   "outputs": [],
   "source": [
    "new_thetas = unflatten_zetas(res.x,flat_thetas[1])\n",
    "respuestas = forward_prop(x_test_ingreso,new_thetas)"
   ]
  },
  {
   "cell_type": "code",
   "execution_count": null,
   "metadata": {},
   "outputs": [],
   "source": [
    "number = 3\n",
    "prueba = respuestas[-1][:][:,number]\n",
    "print(np.argmax(prueba))\n",
    "test = plt.imshow(x_test_ingreso[number].reshape(28,28))\n",
    "plt.show()"
   ]
  },
  {
   "cell_type": "code",
   "execution_count": null,
   "metadata": {},
   "outputs": [],
   "source": [
    "respuestas[-1].T[0]"
   ]
  },
  {
   "cell_type": "code",
   "execution_count": null,
   "metadata": {},
   "outputs": [],
   "source": [
    "y_pred = np.asarray([np.argmax(i) for i in respuestas[-1].T])"
   ]
  },
  {
   "cell_type": "code",
   "execution_count": null,
   "metadata": {},
   "outputs": [],
   "source": [
    "from sklearn import metrics \n",
    "\n",
    "metrics.accuracy_score(y_test,y_pred)"
   ]
  },
  {
   "cell_type": "code",
   "execution_count": null,
   "metadata": {},
   "outputs": [],
   "source": []
  }
 ],
 "metadata": {
  "kernelspec": {
   "display_name": "Python 3",
   "language": "python",
   "name": "python3"
  },
  "language_info": {
   "codemirror_mode": {
    "name": "ipython",
    "version": 3
   },
   "file_extension": ".py",
   "mimetype": "text/x-python",
   "name": "python",
   "nbconvert_exporter": "python",
   "pygments_lexer": "ipython3",
   "version": "3.7.6"
  }
 },
 "nbformat": 4,
 "nbformat_minor": 4
}
