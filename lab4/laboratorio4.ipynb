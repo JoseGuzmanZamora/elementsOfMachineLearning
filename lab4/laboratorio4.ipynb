{
 "cells": [
  {
   "cell_type": "code",
   "execution_count": 1,
   "metadata": {},
   "outputs": [],
   "source": [
    "import neural_net\n",
    "import pandas as pd \n",
    "import pickle \n",
    "import numpy as np\n",
    "import scipy.optimize as op\n",
    "import time\n",
    "import matplotlib.pyplot as plt\n",
    "import matplotlib.image as mpimg"
   ]
  },
  {
   "cell_type": "code",
   "execution_count": 2,
   "metadata": {},
   "outputs": [],
   "source": [
    "# some_file.py\n",
    "import sys\n",
    "# insert at 1, 0 is the script path (or '' in REPL)\n",
    "sys.path.insert(1, '../../fashion-mnist/utils')\n",
    "\n",
    "import mnist_reader"
   ]
  },
  {
   "cell_type": "code",
   "execution_count": 3,
   "metadata": {},
   "outputs": [],
   "source": [
    "x_train, y_train = mnist_reader.load_mnist('../../fmnist', kind='train')\n",
    "x_test, y_test = mnist_reader.load_mnist('../../fmnist', kind='t10k')"
   ]
  },
  {
   "cell_type": "code",
   "execution_count": 145,
   "metadata": {},
   "outputs": [],
   "source": [
    "# para no estar recargando \n",
    "import numpy as np \n",
    "import copy \n",
    "\n",
    "def sigmoid(values):\n",
    "    return 1 / (1 + np.exp(-values))\n",
    "\n",
    "def forward_setup(nodos,X,Y,hidden_layers):\n",
    "    nodos.insert(0,X.shape[1])\n",
    "    nodos.append(len(Y[0]))\n",
    "    nodes = [i + 1 for i in nodos]\n",
    "\n",
    "    # red, mesh de thetas \n",
    "    thetas = []\n",
    "    # por el momento le voy a poner mas 1 por la output layer \n",
    "    for i in range(hidden_layers + 1):\n",
    "        temp_primero = np.expand_dims(np.asarray([(np.random.randn() / 2) for i in range(nodes[i])],dtype='float64'),1)\n",
    "        thetas.append(np.matrix(np.asarray(\n",
    "            [temp_primero for i in range(nodos[i + 1])]\n",
    "            )))\n",
    "    return thetas\n",
    "\n",
    "def forward_prop(X,thetas):\n",
    "    inicial = X.T      \n",
    "    trace = [inicial]\n",
    "    for i in range(len(thetas)):\n",
    "        interno = np.matmul(\n",
    "            thetas[i],\n",
    "            np.vstack(\n",
    "                [np.expand_dims(np.ones(trace[i].shape[1]),0),\n",
    "                trace[i]]\n",
    "                )\n",
    "        )\n",
    "        trace.append(sigmoid(interno))\n",
    "    return trace \n",
    "\n",
    "def backward_prop(thetas,shapes,X,Y):\n",
    "    m,_ = X.shape\n",
    "    # regresar a su normalidad \n",
    "    thetas = unflatten_zetas(thetas,shapes)\n",
    "    delta = copy.deepcopy(thetas)\n",
    "    for i in delta: i[:] = 0\n",
    "    activation_trace = forward_prop(X,thetas)\n",
    "    first_delta = activation_trace[-1] - Y.T\n",
    "    deltas = [first_delta]\n",
    "    # backward prop \n",
    "    for i in reversed(range(1,len(thetas))):\n",
    "        first_delta = np.multiply(\n",
    "            np.matmul(thetas[i].T[1:,:],first_delta),\n",
    "            np.multiply(activation_trace[i],(1-activation_trace[i]))\n",
    "            )\n",
    "        deltas.append(first_delta)\n",
    "    deltas.append(None)\n",
    "\n",
    "    deltas = list(reversed(deltas))\n",
    "    for i in range(len(delta)):\n",
    "        temp_shape = activation_trace[i].shape\n",
    "        multi_res = np.matmul(\n",
    "            deltas[i + 1],\n",
    "            np.vstack([np.ones((1,temp_shape[1])),activation_trace[i]]).T\n",
    "            )\n",
    "        delta[i] += multi_res / m\n",
    "    return flatten_zetas(delta)[0]\n",
    "    \n",
    "def flatten_zetas(thetas):\n",
    "    flat_zetas = np.asarray([])\n",
    "    shapes = []\n",
    "    for i in thetas:\n",
    "        shapes.append(i.shape)\n",
    "        flat_zetas = np.concatenate((flat_zetas,np.ravel(i)))\n",
    "    return (flat_zetas,shapes)\n",
    "\n",
    "def unflatten_zetas(flat_thetas,shapes):\n",
    "    res = []\n",
    "    for i in shapes:\n",
    "        cantidad = i[0] * i[1]  \n",
    "        res.append(flat_thetas[:cantidad].reshape(i))\n",
    "    return res \n",
    "\n",
    "def cost(thetas,shapes,X,Y):\n",
    "    thetas = unflatten_zetas(thetas,shapes)\n",
    "    h = forward_prop(X,thetas)[-1]\n",
    "    calculate = (Y * np.log(h).T) + ((1 - Y) * np.log(1 - h).T)\n",
    "    print(np.sum(calculate) / (- X.shape[0]))\n",
    "    return np.sum(calculate) / (- X.shape[0])"
   ]
  },
  {
   "cell_type": "code",
   "execution_count": 146,
   "metadata": {},
   "outputs": [
    {
     "data": {
      "image/png": "[encoded data removed]",
      "text/plain": [
       "<Figure size 432x288 with 1 Axes>"
      ]
     },
     "metadata": {
      "needs_background": "light"
     },
     "output_type": "display_data"
    },
    {
     "name": "stdout",
     "output_type": "stream",
     "text": [
      "9\n"
     ]
    }
   ],
   "source": [
    "# un poco de transformaciones iniciales \n",
    "verificacion = plt.imshow(x_train[0].reshape(28,28))\n",
    "plt.show()\n",
    "print(y_train[0])\n",
    "x_train_ingreso = x_train / 1000\n",
    "x_test_ingreso = x_test / 1000\n",
    "categorias = 10\n",
    "y_train_ingreso = (np.expand_dims(y_train,1) == np.arange(categorias)).astype(int)\n",
    "y_test_ingreso = (np.expand_dims(y_test,1) == np.arange(categorias)).astype(int)"
   ]
  },
  {
   "cell_type": "code",
   "execution_count": 147,
   "metadata": {},
   "outputs": [],
   "source": [
    "architecture = [2000]\n",
    "thetas = forward_setup(architecture,x_train_ingreso, y_train_ingreso, len(architecture))\n",
    "flat_thetas = flatten_zetas(thetas)"
   ]
  },
  {
   "cell_type": "code",
   "execution_count": 148,
   "metadata": {},
   "outputs": [
    {
     "name": "stdout",
     "output_type": "stream",
     "text": [
      "5.48327163369385\n",
      "4.210328608958786\n",
      "5.146287311269138\n",
      "3.9849143405479985\n",
      "3.4315240944139878\n",
      "3.7343389088226577\n",
      "3.090149761976758\n",
      "2.908389739030836\n",
      "2.889517292897274\n"
     ]
    },
    {
     "name": "stderr",
     "output_type": "stream",
     "text": [
      "d:\\cs7\\env\\lib\\site-packages\\ipykernel_launcher.py:83: RuntimeWarning: divide by zero encountered in log\n",
      "d:\\cs7\\env\\lib\\site-packages\\ipykernel_launcher.py:83: RuntimeWarning: invalid value encountered in multiply\n"
     ]
    },
    {
     "name": "stdout",
     "output_type": "stream",
     "text": [
      "nan\n",
      "3.9950261181199016\n",
      "3.0469851947064956\n",
      "2.9772324777710417\n",
      "3.0036667158115065\n",
      "2.980585369434039\n",
      "2.9772324777710417\n"
     ]
    }
   ],
   "source": [
    "start = time.time()\n",
    "\n",
    "res = op.minimize(\n",
    "    fun=cost,\n",
    "    x0=flat_thetas[0],\n",
    "    args=(flat_thetas[1],x_train_ingreso,y_train_ingreso),\n",
    "    method='L-BFGS-B',\n",
    "    jac=backward_prop,\n",
    "    options={\n",
    "        'disp':True,\n",
    "        'maxiter':1300\n",
    "    }\n",
    ")\n",
    "\n",
    "end = time.time()"
   ]
  },
  {
   "cell_type": "code",
   "execution_count": 149,
   "metadata": {},
   "outputs": [
    {
     "data": {
      "text/plain": [
       "      fun: 2.9772324777710417\n",
       " hess_inv: <1590010x1590010 LbfgsInvHessProduct with dtype=float64>\n",
       "      jac: array([1.90683626e-02, 7.38816334e-08, 8.07710043e-08, ...,\n",
       "       1.06351865e-02, 1.00218229e-02, 9.64133639e-03])\n",
       "  message: b'CONVERGENCE: REL_REDUCTION_OF_F_<=_FACTR*EPSMCH'\n",
       "     nfev: 16\n",
       "      nit: 7\n",
       "   status: 0\n",
       "  success: True\n",
       "        x: array([ 0.25417294,  0.37847502,  0.8862653 , ...,  0.03760892,\n",
       "       -0.4190911 ,  0.07245455])"
      ]
     },
     "execution_count": 149,
     "metadata": {},
     "output_type": "execute_result"
    }
   ],
   "source": [
    "res"
   ]
  },
  {
   "cell_type": "code",
   "execution_count": 150,
   "metadata": {},
   "outputs": [],
   "source": [
    "with open('model.txt', 'wb') as f:\n",
    "    pickle.dump(res, f)"
   ]
  },
  {
   "cell_type": "code",
   "execution_count": 151,
   "metadata": {},
   "outputs": [],
   "source": [
    "new_thetas = unflatten_zetas(res.x,flat_thetas[1])\n",
    "respuestas = forward_prop(x_test_ingreso,new_thetas)"
   ]
  },
  {
   "cell_type": "code",
   "execution_count": 152,
   "metadata": {},
   "outputs": [
    {
     "name": "stdout",
     "output_type": "stream",
     "text": [
      "1\n"
     ]
    },
    {
     "data": {
      "image/png": "[encoded data removed]",
      "text/plain": [
       "<Figure size 432x288 with 1 Axes>"
      ]
     },
     "metadata": {
      "needs_background": "light"
     },
     "output_type": "display_data"
    }
   ],
   "source": [
    "number = 3\n",
    "prueba = respuestas[-1][:][:,number]\n",
    "print(np.argmax(prueba))\n",
    "test = plt.imshow(x_test_ingreso[number].reshape(28,28))\n",
    "plt.show()"
   ]
  },
  {
   "cell_type": "code",
   "execution_count": 153,
   "metadata": {},
   "outputs": [
    {
     "data": {
      "text/plain": [
       "array([2.56430937e-07, 2.44124446e-10, 3.82012187e-05, 5.24989711e-08,\n",
       "       3.58370164e-07, 8.29041707e-01, 7.45905269e-08, 8.96860025e-03,\n",
       "       1.21589523e-04, 7.97969512e-01])"
      ]
     },
     "execution_count": 153,
     "metadata": {},
     "output_type": "execute_result"
    }
   ],
   "source": [
    "respuestas[-1].T[0]"
   ]
  },
  {
   "cell_type": "code",
   "execution_count": 154,
   "metadata": {},
   "outputs": [],
   "source": [
    "y_pred = np.asarray([np.argmax(i) for i in respuestas[-1].T])"
   ]
  },
  {
   "cell_type": "code",
   "execution_count": 155,
   "metadata": {},
   "outputs": [
    {
     "data": {
      "text/plain": [
       "0.6707"
      ]
     },
     "execution_count": 155,
     "metadata": {},
     "output_type": "execute_result"
    }
   ],
   "source": [
    "from sklearn import metrics \n",
    "\n",
    "metrics.accuracy_score(y_test,y_pred)"
   ]
  },
  {
   "cell_type": "code",
   "execution_count": null,
   "metadata": {},
   "outputs": [],
   "source": []
  }
 ],
 "metadata": {
  "kernelspec": {
   "display_name": "Python 3",
   "language": "python",
   "name": "python3"
  },
  "language_info": {
   "codemirror_mode": {
    "name": "ipython",
    "version": 3
   },
   "file_extension": ".py",
   "mimetype": "text/x-python",
   "name": "python",
   "nbconvert_exporter": "python",
   "pygments_lexer": "ipython3",
   "version": "3.7.6"
  }
 },
 "nbformat": 4,
 "nbformat_minor": 4
}
