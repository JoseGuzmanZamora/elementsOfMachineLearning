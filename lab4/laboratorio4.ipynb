{
 "cells": [
  {
   "cell_type": "markdown",
   "metadata": {},
   "source": [
    "# Laboratorio 4 Redes Neuronales \n",
    "## Elements of Machine Learning \n",
    "## José Alejandro Guzmán Zamora"
   ]
  },
  {
   "cell_type": "code",
   "execution_count": 218,
   "metadata": {},
   "outputs": [],
   "source": [
    "\"\"\"\n",
    "Librerías a utilizar en el laboratorio. La primera es el archivo que\n",
    "contiene la implementación de redes neuronales, en las celdas de abajo\n",
    "lo copié al archivo actual con la intención de hacer debugging directo \n",
    "sin tener que reiniciar el kernel con cada cambio realizado. \n",
    "\"\"\"\n",
    "\n",
    "import neural_net\n",
    "import pandas as pd \n",
    "import pickle \n",
    "import numpy as np\n",
    "import scipy.optimize as op\n",
    "import time\n",
    "import matplotlib.pyplot as plt\n",
    "import matplotlib.image as mpimg"
   ]
  },
  {
   "cell_type": "code",
   "execution_count": 2,
   "metadata": {},
   "outputs": [],
   "source": [
    "\"\"\"\n",
    "Previamente cloné el repositorio de fashion-mnist y convenientemente \n",
    "este tiene un módulo para hacer la lectura del dataset, a continuación\n",
    "obtengo esas herramientas. \n",
    "\"\"\"\n",
    "\n",
    "import sys\n",
    "sys.path.insert(1, '../../fashion-mnist/utils')\n",
    "\n",
    "import mnist_reader"
   ]
  },
  {
   "cell_type": "code",
   "execution_count": 3,
   "metadata": {},
   "outputs": [],
   "source": [
    "\"\"\"\n",
    "Lectura del dataset, de una vez se divide en train y test para realizar \n",
    "cross validation. \n",
    "\"\"\"\n",
    "\n",
    "x_train, y_train = mnist_reader.load_mnist('../../fmnist', kind='train')\n",
    "x_test, y_test = mnist_reader.load_mnist('../../fmnist', kind='t10k')"
   ]
  },
  {
   "cell_type": "code",
   "execution_count": 219,
   "metadata": {},
   "outputs": [],
   "source": [
    "\"\"\"\n",
    "Tal como mencioné al inicio, pegué mi implementación de redes neuronales aquí \n",
    "para agilizar mi flujo de desarrollo. Sin embargo lo que fue cambiando fue la \n",
    "manera en que inicializo los pesos. Por lo tanto, se puede consumir desde el \n",
    "archivo neural_net.py en este mismo directorio. \n",
    "\"\"\"\n",
    "\n",
    "import numpy as np \n",
    "import copy \n",
    "\n",
    "def sigmoid(values):\n",
    "    return 1 / (1 + np.exp(-values))\n",
    "\n",
    "def forward_setup(nodos,X,Y,hidden_layers):\n",
    "    nodos.insert(0,X.shape[1])\n",
    "    nodos.append(len(Y[0]))\n",
    "    nodes = [i + 1 for i in nodos]\n",
    "\n",
    "    # red, mesh de thetas \n",
    "    thetas = []\n",
    "    # por el momento le voy a poner mas 1 por la output layer \n",
    "    for i in range(hidden_layers + 1):\n",
    "        temp_primero = np.expand_dims(np.asarray([(np.random.randn() / 5) for i in range(nodes[i])],dtype='float64'),1)\n",
    "        thetas.append(np.matrix(np.asarray(\n",
    "            [temp_primero for i in range(nodos[i + 1])]\n",
    "            )))\n",
    "    return thetas\n",
    "\n",
    "def forward_prop(X,thetas):\n",
    "    inicial = X.T      \n",
    "    trace = [inicial]\n",
    "    for i in range(len(thetas)):\n",
    "        interno = np.matmul(\n",
    "            thetas[i],\n",
    "            np.vstack(\n",
    "                [np.expand_dims(np.ones(trace[i].shape[1]),0),\n",
    "                trace[i]]\n",
    "                )\n",
    "        )\n",
    "        trace.append(sigmoid(interno))\n",
    "    return trace \n",
    "\n",
    "def backward_prop(thetas,shapes,X,Y):\n",
    "    m,_ = X.shape\n",
    "    # regresar a su normalidad \n",
    "    thetas = unflatten_zetas(thetas,shapes)\n",
    "    delta = copy.deepcopy(thetas)\n",
    "    for i in delta: i[:] = 0\n",
    "    activation_trace = forward_prop(X,thetas)\n",
    "    first_delta = activation_trace[-1] - Y.T\n",
    "    deltas = [first_delta]\n",
    "    # backward prop \n",
    "    for i in reversed(range(1,len(thetas))):\n",
    "        first_delta = np.multiply(\n",
    "            np.matmul(thetas[i].T[1:,:],first_delta),\n",
    "            np.multiply(activation_trace[i],(1-activation_trace[i]))\n",
    "            )\n",
    "        deltas.append(first_delta)\n",
    "    deltas.append(None)\n",
    "\n",
    "    deltas = list(reversed(deltas))\n",
    "    for i in range(len(delta)):\n",
    "        temp_shape = activation_trace[i].shape\n",
    "        multi_res = np.matmul(\n",
    "            deltas[i + 1],\n",
    "            np.vstack([np.ones((1,temp_shape[1])),activation_trace[i]]).T\n",
    "            )\n",
    "        delta[i] += multi_res / m\n",
    "    return flatten_zetas(delta)[0]\n",
    "    \n",
    "def flatten_zetas(thetas):\n",
    "    flat_zetas = np.asarray([])\n",
    "    shapes = []\n",
    "    for i in thetas:\n",
    "        shapes.append(i.shape)\n",
    "        flat_zetas = np.concatenate((flat_zetas,np.ravel(i)))\n",
    "    return (flat_zetas,shapes)\n",
    "\n",
    "def unflatten_zetas(flat_thetas,shapes):\n",
    "    res = []\n",
    "    for i in shapes:\n",
    "        cantidad = i[0] * i[1]  \n",
    "        res.append(flat_thetas[:cantidad].reshape(i))\n",
    "    return res \n",
    "\n",
    "def cost(thetas,shapes,X,Y):\n",
    "    thetas = unflatten_zetas(thetas,shapes)\n",
    "    h = forward_prop(X,thetas)[-1]\n",
    "    calculate = (Y * np.log(h).T) + ((1 - Y) * np.log(1 - h).T)\n",
    "    print(np.sum(calculate) / (- X.shape[0]))\n",
    "    return np.sum(calculate) / (- X.shape[0])"
   ]
  },
  {
   "cell_type": "code",
   "execution_count": 220,
   "metadata": {},
   "outputs": [
    {
     "data": {
      "image/png": "[encoded data removed]",
      "text/plain": [
       "<Figure size 432x288 with 1 Axes>"
      ]
     },
     "metadata": {
      "needs_background": "light"
     },
     "output_type": "display_data"
    },
    {
     "name": "stdout",
     "output_type": "stream",
     "text": [
      "9\n"
     ]
    }
   ],
   "source": [
    "\"\"\"\n",
    "Verificación de las imágenes para darse una idea de lo que se está trabajando. \n",
    "En esta celda también se hace una división sobre los valores del dataset para \n",
    "no caer en gradient explosion. Si estos valores son muy grandes, el resultado \n",
    "del sigmoide por lo general es 1 y la función de costo se va al infinito. \n",
    "Además se separan los labels en arreglos de 0s y 1s para ingresarlos a la red. \n",
    "\"\"\"\n",
    "\n",
    "verificacion = plt.imshow(x_train[0].reshape(28,28))\n",
    "plt.show()\n",
    "print(y_train[0])\n",
    "x_train_ingreso = x_train / 1000\n",
    "x_test_ingreso = x_test / 1000\n",
    "categorias = 10\n",
    "y_train_ingreso = (np.expand_dims(y_train,1) == np.arange(categorias)).astype(int)\n",
    "y_test_ingreso = (np.expand_dims(y_test,1) == np.arange(categorias)).astype(int)"
   ]
  },
  {
   "cell_type": "code",
   "execution_count": 184,
   "metadata": {},
   "outputs": [],
   "source": [
    "\"\"\"\n",
    "Definición de la arquitectura. Ya sabemos que tendremos 784 inputs \n",
    "y utilicé una hidden layer con 2000 neuronas. Además se inicializan \n",
    "los thetas y se transforman a un vector plano para la optimización. \n",
    "\"\"\"\n",
    "\n",
    "architecture = [2000]\n",
    "thetas = forward_setup(architecture,x_train_ingreso, y_train_ingreso, len(architecture))\n",
    "flat_thetas = flatten_zetas(thetas)"
   ]
  },
  {
   "cell_type": "markdown",
   "metadata": {},
   "source": [
    "# Entrenamiento "
   ]
  },
  {
   "cell_type": "code",
   "execution_count": 185,
   "metadata": {},
   "outputs": [
    {
     "name": "stdout",
     "output_type": "stream",
     "text": [
      "39.71615639057327\n",
      "35.659719180356156\n",
      "20.95064059610047\n",
      "11.204083127597464\n",
      "9.171584116800869\n",
      "6.448289414262405\n",
      "38.04249577165899\n",
      "12.607031594114497\n",
      "6.143846607714409\n",
      "5.528831764493346\n",
      "6.68393552693459\n",
      "4.9640206749459335\n",
      "5.394488403853958\n",
      "4.7703782670219095\n",
      "11.482828161811774\n",
      "4.896151975138058\n",
      "4.342388919763659\n",
      "4.685900290261928\n",
      "3.955515120354737\n",
      "3.8182398431133993\n",
      "2.886409450690918\n",
      "2.442182635453975\n",
      "2.0366420996690184\n",
      "6.875999576246029\n",
      "2.356457668619646\n",
      "2.040778089565356\n",
      "2.032593468586256\n",
      "2.034233279578073\n",
      "2.0316642687192084\n",
      "2.0323384459523566\n",
      "2.0314688163149364\n",
      "2.0316072362792554\n",
      "2.0316642687192084\n",
      "2.0558443177967884\n",
      "1.750997641755969\n",
      "5.530645507029404\n",
      "2.390631807570443\n",
      "1.7350564071365167\n",
      "3.7466082853171083\n",
      "1.896867921514932\n",
      "1.7497379585203177\n",
      "1.7371718142104358\n",
      "1.7354569393691333\n",
      "1.735138643452056\n",
      "1.7350736081273372\n",
      "1.7350600193298935\n",
      "1.7350571663312615\n",
      "1.735056566728886\n",
      "1.735056440686104\n",
      "1.7350564141893827\n",
      "1.7350564086191875\n",
      "1.735056407448207\n",
      "1.7350564072020407\n",
      "1.7350564071502912\n",
      "1.7350564071394126\n",
      "1.7350564071371248\n",
      "1.7350564071366448\n",
      "1.7350564071365437\n",
      "1.8933889174203022\n",
      "1.5943323869981825\n",
      "1.52980077732103\n",
      "1.4935816088926144\n",
      "1.4753008085053685\n",
      "1.4699963717908202\n",
      "1.4935526187266377\n",
      "1.4675061775559888\n",
      "1.4678240370985418\n",
      "1.467393336924498\n",
      "1.4673704043441864\n",
      "1.4673943045918434\n",
      "1.4673704043441864\n",
      "1.4881275469632398\n",
      "1.4670764691348643\n",
      "1.46712131643614\n",
      "1.4669947114830701\n",
      "1.4669388124469915\n",
      "1.4669222026197652\n",
      "1.4669262694485186\n",
      "1.4669217982151026\n",
      "1.4669217982151026\n",
      "1.4848437562673755\n",
      "1.46689268897896\n",
      "1.4667554084023717\n",
      "1.4666844006168693\n",
      "1.4666660800742322\n",
      "1.4666777647433764\n",
      "1.4666844006168693\n",
      "1.482492675846901\n",
      "1.4666661719584244\n",
      "1.466536548754235\n",
      "1.4665011221261182\n",
      "1.4664900427551089\n",
      "1.466524986518727\n",
      "1.4665004673503808\n",
      "1.4665193360864277\n",
      "1.4665064881088303\n",
      "1.4665064881088303\n"
     ]
    },
    {
     "name": "stderr",
     "output_type": "stream",
     "text": [
      "d:\\cs7\\env\\lib\\site-packages\\ipykernel_launcher.py:83: RuntimeWarning: divide by zero encountered in log\n",
      "d:\\cs7\\env\\lib\\site-packages\\ipykernel_launcher.py:83: RuntimeWarning: invalid value encountered in multiply\n"
     ]
    },
    {
     "name": "stdout",
     "output_type": "stream",
     "text": [
      "nan\n",
      "nan\n"
     ]
    },
    {
     "name": "stderr",
     "output_type": "stream",
     "text": [
      "d:\\cs7\\env\\lib\\site-packages\\ipykernel_launcher.py:6: RuntimeWarning: overflow encountered in exp\n",
      "  \n"
     ]
    },
    {
     "name": "stdout",
     "output_type": "stream",
     "text": [
      "nan\n",
      "nan\n",
      "nan\n",
      "nan\n",
      "nan\n",
      "nan\n",
      "nan\n",
      "nan\n",
      "nan\n",
      "nan\n",
      "nan\n",
      "nan\n",
      "nan\n",
      "nan\n",
      "nan\n",
      "nan\n",
      "nan\n",
      "nan\n",
      "1.4377256567918768\n",
      "1.3824495738727993\n",
      "1.3755385803160693\n",
      "1.3604750622651212\n",
      "1.3550473337513862\n",
      "1.3017271477641028\n",
      "1.276684811687214\n",
      "1.2645892816270268\n",
      "2.8169541076595985\n",
      "1.2801817767563353\n",
      "1.265961177581101\n",
      "1.2647978459151907\n",
      "1.2646296106914836\n",
      "1.264597607586664\n",
      "1.264591025938893\n",
      "1.2645896482108665\n",
      "1.2645893587190173\n",
      "1.2645892978416018\n",
      "1.2645892850374991\n",
      "1.2645892823443692\n",
      "1.2645892817779092\n",
      "1.2645892816587625\n",
      "1.2645892816337019\n",
      "1.2645892816284312\n",
      "1.2645892816273225\n",
      "1.2645892816270892\n",
      "1.2645892816270403\n",
      "1.2645892816270303\n",
      "1.339385319116542\n",
      "1.2201778827674081\n",
      "1.2105658694150896\n",
      "1.2070753166203283\n",
      "1.203357534400441\n",
      "1.1976644190518253\n",
      "1.2189110081212287\n",
      "1.1961978254515935\n",
      "1.1963292645559325\n",
      "1.1961136346529977\n",
      "1.196086825271167\n",
      "1.196091555647005\n",
      "1.196086825271167\n",
      "1.2034428826405128\n",
      "1.189323997656338\n",
      "1.182967590174585\n",
      "1.1691851382649665\n",
      "1.3593397498479776\n",
      "1.1618425317868926\n",
      "1.1645061181092302\n",
      "1.161717469554848\n",
      "1.1618646181242467\n",
      "1.1617302409467556\n",
      "1.161717469554848\n",
      "1.4065532464522155\n",
      "1.1653626415625018\n",
      "1.161762025180925\n",
      "1.1616974924521797\n",
      "1.1616927501037804\n",
      "1.1616956806417167\n",
      "1.161694555871482\n",
      "1.1616954205909795\n",
      "1.1616954205909795\n",
      "1.4089206099039737\n",
      "1.1657167867249627\n",
      "1.1618200387321045\n",
      "1.1616925486858485\n",
      "1.161693532228356\n",
      "1.1616949647959616\n",
      "1.1616953217852886\n",
      "1.1616953996093533\n",
      "1.1616954161544752\n",
      "1.1616954196537361\n",
      "1.1616954203930179\n",
      "1.1616954205491683\n",
      "1.1616954205821486\n",
      "1.161695420589114\n",
      "1.1616954205905852\n",
      "1.161695420590896\n",
      "1.161695420590962\n",
      "1.1616954205909757\n",
      "1.1616954205909784\n",
      "1.161695420590979\n",
      "1.1831670159381982\n",
      "1.1540514790835705\n",
      "1.1501963663449053\n",
      "1.1476688227207894\n",
      "1.1459253331522652\n",
      "1.1455734588883875\n",
      "1.1522864508324897\n",
      "1.1454614572947552\n",
      "1.1454463285036012\n",
      "1.1453760720084178\n",
      "1.1454231931161423\n",
      "1.1919698966850238\n",
      "1.1457155453809746\n",
      "1.1449392621933248\n",
      "1.145027840683112\n",
      "1.339006769158283\n",
      "1.1492303628886356\n",
      "1.1449888348539832\n",
      "1.1449728601782705\n",
      "1.144945097729369\n",
      "1.1449544610498832\n",
      "1.1449379157358597\n",
      "1.1449414602903112\n",
      "1.1449382780749366\n",
      "1.1449379157358597\n",
      "1.4339807489144911\n",
      "1.1473744876964422\n",
      "1.144513380128093\n",
      "1.1456464879368915\n",
      "1.144504352314959\n",
      "1.145053194717253\n",
      "1.1445536811671957\n",
      "1.144511734705927\n",
      "1.144504352314959\n",
      "1.744863821255135\n",
      "1.1469618146627962\n",
      "1.1443217352092194\n",
      "1.1454937433357388\n",
      "1.1443824161416414\n",
      "1.144325919044575\n",
      "1.1443217352092194\n",
      "1.836252704919865\n",
      "1.1461393387549075\n",
      "1.1440996246166353\n",
      "1.1449517690747997\n",
      "1.144117408137896\n",
      "1.1440959358403295\n",
      "1.1441038935433534\n",
      "1.14409560331726\n",
      "1.1440993905873365\n",
      "1.1440958583466778\n",
      "1.14409560331726\n",
      "2.4613845189963013\n",
      "1.1450447898188854\n",
      "1.143938677024295\n",
      "1.144376311100868\n",
      "1.1439353612510923\n",
      "1.1439335965980548\n",
      "1.143938677024295\n",
      "2.276764921335528\n",
      "1.1447606999524085\n",
      "1.1437201540205133\n",
      "1.1440861346113997\n",
      "1.1436921728027967\n",
      "1.1437094375089283\n",
      "1.143694032867363\n",
      "1.143694032867363\n",
      "3.3746143414702185\n",
      "1.1444245123316727\n",
      "1.1435638127224457\n",
      "1.1436532129102632\n",
      "1.1435832150349037\n",
      "1.143569142363304\n",
      "1.1435798311035645\n",
      "1.1435832150349037\n",
      "2.444829862745256\n",
      "1.1436248160311584\n",
      "1.14322929548254\n",
      "1.1431958628649947\n",
      "1.1431251412790269\n",
      "1.1430917413302701\n",
      "1.1430919175505148\n",
      "1.143070057492328\n",
      "1.1430818656245978\n",
      "1.143070057492328\n",
      "3.374579090686524\n",
      "1.145171967358505\n",
      "1.1432035862334329\n",
      "1.1430836524034538\n",
      "1.1430722684552013\n",
      "1.1430704949740658\n",
      "1.1430701485891068\n",
      "1.143070076677515\n",
      "1.1430700615425566\n",
      "1.1430700583478197\n",
      "1.143070057673045\n",
      "1.1430700575305037\n",
      "1.1430700575003923\n",
      "1.1430700574940311\n",
      "1.1430700574926878\n",
      "1.1430700574924042\n",
      "1.1430700574923436\n",
      "1.1430700574923311\n",
      "1.1430700574923283\n",
      "1.1430700574923278\n",
      "1.1352680834123055\n",
      "1.0797393625396499\n",
      "1.0723883770635145\n",
      "1.0706119699169987\n",
      "1.0699292898349162\n",
      "1.0673488473062962\n",
      "1.0585555060891902\n",
      "1.0461330200792867\n",
      "1.2817730256620514\n",
      "1.0499850202293814\n",
      "1.0465438896591965\n",
      "1.0461330200792867\n",
      "1.0345202120089163\n",
      "1.0246555387439367\n",
      "1.0217585571682395\n",
      "1.0207082661835956\n",
      "1.044832086018176\n",
      "1.0196063409052323\n",
      "1.0193444956219662\n",
      "1.032693628126576\n",
      "1.0168491962268835\n",
      "1.02279741651761\n",
      "1.0167361951098632\n",
      "1.4845175947226468\n",
      "1.014741323008971\n",
      "1.1672984128082569\n",
      "1.0153838381497935\n",
      "1.014627439300641\n",
      "1.014915978417432\n",
      "1.014620888802245\n",
      "1.0147588404203862\n",
      "1.0146317458611473\n",
      "1.014620888802245\n",
      "4.552053912440909\n",
      "1.013176465896077\n",
      "2.09497827569962\n",
      "1.01395023580897\n",
      "1.0131794599501562\n",
      "1.013169925094912\n",
      "1.0131702180742743\n",
      "1.013169925094912\n",
      "2.343970829891787\n",
      "1.0112563524026044\n",
      "1.2953232243405965\n",
      "1.0124434468333883\n",
      "1.0112372189032406\n",
      "1.0118066574092284\n",
      "1.8820641966525329\n",
      "1.0116091954309514\n",
      "1.011365747729561\n",
      "1.0112078916386362\n",
      "1.0114361068231328\n",
      "1.0112443228472991\n",
      "1.0112078916386362\n",
      "1.6245130786680069\n",
      "1.0092881498982504\n",
      "1.2524399047611037\n",
      "1.0110587090410263\n",
      "1.0093657334381403\n",
      "1.0092916838130455\n",
      "1.0092881498982504\n",
      "3.373314943742451\n",
      "1.0100724541346857\n",
      "1.0089311139428994\n",
      "1.009284836045347\n",
      "1.0088743919294425\n",
      "1.0090391852430742\n",
      "1.0088749234803387\n",
      "1.0088728783785028\n",
      "1.0088728761911896\n",
      "1.0088728761911896\n",
      "3.811673712562071\n",
      "1.6499004140101248\n",
      "1.110001582689985\n",
      "1.009209649876256\n",
      "1.0016228235704137\n",
      "0.9978681060427751\n",
      "1.033817122347695\n",
      "0.9876670083454195\n",
      "9.664256558481485\n",
      "3.9460824562977224\n",
      "1.940758057752617\n",
      "1.1972766009629554\n",
      "1.0028783152604273\n",
      "0.9894564701688038\n",
      "0.9879795232611778\n",
      "0.9877284003198359\n",
      "0.9876793901879551\n",
      "0.987669519247352\n",
      "0.9876675180960399\n",
      "0.9876671118558238\n",
      "0.987667029365283\n",
      "0.9876670126139687\n",
      "0.9876670092122132\n",
      "0.9876670085213946\n",
      "0.9876670083810872\n",
      "0.9876670083526865\n",
      "0.9876670083468975\n",
      "0.9876670083457194\n",
      "0.9562951237481774\n",
      "0.9359275072785571\n",
      "0.9295609101817018\n",
      "0.9271403768801016\n",
      "0.9258514079012535\n",
      "0.9230880055286421\n",
      "0.9189918488439173\n",
      "0.9158752276902072\n",
      "0.9377901482278741\n",
      "0.9184011634078583\n",
      "0.9151727923633227\n",
      "0.9144488245206163\n",
      "0.9062266966472232\n",
      "1.3184942669580157\n",
      "0.9787076480376018\n",
      "0.9058230090224166\n",
      "2.0439413253113887\n",
      "1.168536382568253\n",
      "0.9458708188613419\n",
      "0.9100393278850889\n",
      "0.9064704178540909\n",
      "0.9059463313565661\n",
      "0.905847898498636\n",
      "0.9058280960582602\n",
      "0.905824051462602\n",
      "0.9058232227552977\n",
      "0.9058230528491931\n",
      "0.9058230180094876\n",
      "0.9058230108652995\n",
      "0.9058230094003236\n",
      "0.9058230090999131\n",
      "0.9058230090383222\n",
      "0.9058230090256828\n",
      "0.905823009023086\n",
      "0.9058230090225543\n",
      "0.9058230090224452\n",
      "0.901596396744466\n",
      "0.8946044488346071\n",
      "0.8936203039767509\n",
      "0.8925561763278498\n",
      "0.8920626665313834\n",
      "0.890427301749274\n",
      "2.6051566279759815\n",
      "0.9205090453447323\n",
      "0.8921972928509585\n",
      "0.8906439842980522\n",
      "0.8904657875014599\n",
      "0.8904349473871925\n",
      "0.8904288597309681\n",
      "0.890427620921543\n",
      "0.8904273672075974\n",
      "0.890427315176998\n",
      "0.8904273045038911\n",
      "0.8904273023143805\n",
      "0.8904273018652061\n",
      "0.8904273017730624\n",
      "0.8904273017541579\n",
      "0.8904273017502751\n",
      "0.8904273017494801\n",
      "0.8904273017493162\n",
      "0.890427301749283\n",
      "0.8904273017492758\n",
      "0.8928692429084905\n",
      "0.8884025566213338\n",
      "0.8879955031861444\n",
      "0.8879041889916387\n",
      "0.8907639409800135\n",
      "0.8881389040096399\n",
      "0.8879356695803979\n",
      "0.887909876023363\n",
      "0.8879053104215295\n",
      "0.8879044144616599\n",
      "0.8879042345053942\n",
      "0.8879041981865783\n",
      "0.8879041908495628\n",
      "0.8879041893670611\n",
      "0.8879041890674932\n",
      "0.8879041890069728\n",
      "0.8879041889947468\n",
      "0.8879041889922655\n",
      "0.8879041889917667\n",
      "0.8879041889916645\n",
      "0.8879041889916441\n",
      "0.8879041889916401\n",
      "0.8879041889916393\n",
      "0.8879041889916387\n",
      "0.888447672293068\n",
      "0.8872825333909802\n",
      "0.8870962374188933\n",
      "0.8871630986555789\n",
      "0.8870066424729237\n",
      "0.8869703930295256\n",
      "0.8869643212379636\n",
      "0.8869744125794459\n",
      "0.8869653093581084\n",
      "0.8869643212379636\n",
      "0.8866424240103892\n",
      "0.8862939127594586\n",
      "0.8850640982207214\n",
      "0.8827306159444175\n",
      "0.9158008546348688\n",
      "0.8829985367103705\n",
      "0.8827212860614104\n",
      "0.8827356222401163\n",
      "0.8827212860614104\n",
      "0.8808113182274696\n",
      "0.8801963655470235\n",
      "0.8808527972409904\n",
      "0.8797859932295311\n",
      "1.2314605061207906\n",
      "0.94110395430695\n",
      "0.8893205866461634\n",
      "0.8799129106260728\n",
      "0.879667464167912\n",
      "0.8797160223485501\n",
      "0.9614778829942169\n",
      "0.8968387212931279\n",
      "0.8813261861172766\n",
      "0.8798647955243737\n",
      "0.8797378935347221\n",
      "0.8797201754811089\n",
      "0.8797168703837027\n",
      "0.8797161983591989\n",
      "0.8797160590062867\n",
      "0.8797160299887857\n",
      "0.8797160239411681\n",
      "0.8797160226805502\n",
      "0.8797160224177608\n",
      "0.8797160223629724\n",
      "0.8797160223515621\n",
      "0.8797160223491758\n",
      "0.8797160223486808\n",
      "0.8797160223485785\n",
      "0.8797160223485555\n",
      "0.8797160223485513\n",
      "0.8799929509772445\n",
      "0.8789166928480232\n",
      "0.8788303600938103\n",
      "0.8789096249641175\n",
      "0.8787880272439123\n",
      "0.9191233616444571\n",
      "0.8800767903880464\n",
      "0.8787950255672136\n",
      "0.8787772377904892\n",
      "0.8787789848916634\n",
      "0.878774357065323\n",
      "0.8787747295743225\n",
      "0.8787735654903289\n",
      "0.878773610798912\n",
      "0.8787733407092606\n",
      "0.8787733236096659\n",
      "0.8787733236096659\n",
      "0.912964089404367\n",
      "0.8797755460007424\n",
      "0.8788124681243493\n",
      "0.8787744797649468\n",
      "0.878773254089254\n",
      "0.8787732948846609\n",
      "0.878773256213401\n",
      "0.8787732829129853\n",
      "0.8787732621087702\n",
      "0.8787732774880005\n",
      "0.8787732664753584\n",
      "0.8787732748824968\n",
      "0.8787732691000958\n",
      "0.8787732691000958\n",
      "0.9257558238575057\n",
      "0.8798731477587693\n",
      "0.878812577406945\n",
      "0.8787738608496075\n",
      "0.8787730546237589\n",
      "0.8787733026339628\n",
      "0.8787730151695979\n",
      "0.8787731279613382\n",
      "0.8787730141218384\n",
      "0.8787730684120091\n",
      "0.8787730188491228\n",
      "0.8787730141218384\n",
      "0.947391835823267\n",
      "0.8800623950875797\n",
      "0.8788211507688736\n",
      "0.878774538864092\n",
      "0.8787729601935969\n",
      "0.8787729859718617\n",
      "0.8787730074244164\n",
      "0.8787729926393848\n",
      "0.8787729881664136\n",
      "0.8787729881664136\n",
      "0.9790080482262963\n",
      "0.880254703531763\n",
      "0.8788253430095717\n",
      "0.8787742751886651\n",
      "0.8787728362523871\n",
      "0.8787734306406232\n",
      "0.8787728469437216\n",
      "0.8787728333947605\n",
      "0.8787728362523871\n",
      "1.0226584172359665\n",
      "0.8804866705279715\n",
      "0.878834426085447\n",
      "0.878774910595693\n",
      "0.8787728040898629\n",
      "0.8787728085588034\n",
      "0.8787728294685729\n",
      "0.8787728347772282\n",
      "0.8787728359387962\n",
      "0.8787728361860383\n",
      "0.8787728362383613\n",
      "0.8787728362494237\n",
      "0.87877283625176\n",
      "0.8787728362522488\n",
      "0.8787728362519234\n",
      "0.8787728362518163\n",
      "0.8787728362518995\n",
      "0.8787728362518441\n",
      "0.8787728362518883\n",
      "0.8787728362518883\n"
     ]
    }
   ],
   "source": [
    "\"\"\"\n",
    "Entrenamiento del modelo, se utilizó el algoritmo de minimize \n",
    "de scipy con el método L-BFGS-B para hace el entrenamiento. Lo \n",
    "que mando a imprimir es un trace de cómo se fueron comportando \n",
    "los pesos conforme el tiempo. \n",
    "\"\"\"\n",
    "\n",
    "start = time.time()\n",
    "\n",
    "res = op.minimize(\n",
    "    fun=cost,\n",
    "    x0=flat_thetas[0],\n",
    "    args=(flat_thetas[1],x_train_ingreso,y_train_ingreso),\n",
    "    method='L-BFGS-B',\n",
    "    jac=backward_prop,\n",
    "    options={\n",
    "        'disp':True,\n",
    "        'maxiter':1300\n",
    "    }\n",
    ")\n",
    "\n",
    "end = time.time()"
   ]
  },
  {
   "cell_type": "code",
   "execution_count": 197,
   "metadata": {},
   "outputs": [
    {
     "name": "stdout",
     "output_type": "stream",
     "text": [
      "9667.402080535889\n"
     ]
    },
    {
     "data": {
      "text/plain": [
       "      fun: 0.8787728362518883\n",
       " hess_inv: <1590010x1590010 LbfgsInvHessProduct with dtype=float64>\n",
       "      jac: array([-6.43357950e-05,  8.01113514e-09, -6.12798832e-08, ...,\n",
       "       -4.62840906e-04, -4.75298693e-04, -4.17584584e-04])\n",
       "  message: b'CONVERGENCE: REL_REDUCTION_OF_F_<=_FACTR*EPSMCH'\n",
       "     nfev: 619\n",
       "      nit: 117\n",
       "   status: 0\n",
       "  success: True\n",
       "        x: array([-0.21348842,  0.48722762, -0.07573743, ..., -1.19284948,\n",
       "       -1.66644739, -1.06440122])"
      ]
     },
     "execution_count": 197,
     "metadata": {},
     "output_type": "execute_result"
    }
   ],
   "source": [
    "\"\"\"\n",
    "Se puede ver que tardó 9667 segundos en entrenar, esto es equivalente a \n",
    "2.7 horas aproximadamente. El algoritmo hizo un total de 117 iteraciones \n",
    "hasta considerar la convergencia. \n",
    "\"\"\"\n",
    "\n",
    "print(\"Tiempo en segundos: \",end-start)\n",
    "res"
   ]
  },
  {
   "cell_type": "code",
   "execution_count": 187,
   "metadata": {},
   "outputs": [],
   "source": [
    "\"\"\"\n",
    "Guardar el modelo. \n",
    "\"\"\"\n",
    "\n",
    "with open('model.txt', 'wb') as f:\n",
    "    pickle.dump(res, f)"
   ]
  },
  {
   "cell_type": "code",
   "execution_count": 188,
   "metadata": {},
   "outputs": [],
   "source": [
    "\"\"\"\n",
    "Comenzar con la evaluación, se aplanan los pesos finales \n",
    "y se ingresan los datos de test a forward prop para los \n",
    "intentos de clasificación. \n",
    "\"\"\"\n",
    "\n",
    "new_thetas = unflatten_zetas(res.x,flat_thetas[1])\n",
    "respuestas = forward_prop(x_test_ingreso,new_thetas)"
   ]
  },
  {
   "cell_type": "code",
   "execution_count": 191,
   "metadata": {},
   "outputs": [],
   "source": [
    "y_pred = np.asarray([np.argmax(i) for i in respuestas[-1].T])"
   ]
  },
  {
   "cell_type": "code",
   "execution_count": 192,
   "metadata": {},
   "outputs": [
    {
     "data": {
      "text/plain": [
       "0.8292"
      ]
     },
     "execution_count": 192,
     "metadata": {},
     "output_type": "execute_result"
    }
   ],
   "source": [
    "\"\"\"\n",
    "Evaluación formal por medio de accuracy, es decir, la cantidad \n",
    "de clasificaciones correctas dividido la cantidad total de registros. \n",
    "Se logró un accuracy del 83% \n",
    "\"\"\"\n",
    "\n",
    "from sklearn import metrics \n",
    "\n",
    "metrics.accuracy_score(y_test,y_pred)"
   ]
  },
  {
   "cell_type": "code",
   "execution_count": 225,
   "metadata": {},
   "outputs": [
    {
     "name": "stdout",
     "output_type": "stream",
     "text": [
      "Sneaker\n"
     ]
    },
    {
     "data": {
      "image/png": "[encoded data removed]",
      "text/plain": [
       "<Figure size 432x288 with 1 Axes>"
      ]
     },
     "metadata": {
      "needs_background": "light"
     },
     "output_type": "display_data"
    },
    {
     "name": "stdout",
     "output_type": "stream",
     "text": [
      "Sneaker\n"
     ]
    },
    {
     "data": {
      "image/png": "[encoded data removed]",
      "text/plain": [
       "<Figure size 432x288 with 1 Axes>"
      ]
     },
     "metadata": {
      "needs_background": "light"
     },
     "output_type": "display_data"
    },
    {
     "name": "stdout",
     "output_type": "stream",
     "text": [
      "Bag\n"
     ]
    },
    {
     "data": {
      "image/png": "[encoded data removed]",
      "text/plain": [
       "<Figure size 432x288 with 1 Axes>"
      ]
     },
     "metadata": {
      "needs_background": "light"
     },
     "output_type": "display_data"
    },
    {
     "name": "stdout",
     "output_type": "stream",
     "text": [
      "Sandal\n"
     ]
    },
    {
     "data": {
      "image/png": "[encoded data removed]",
      "text/plain": [
       "<Figure size 432x288 with 1 Axes>"
      ]
     },
     "metadata": {
      "needs_background": "light"
     },
     "output_type": "display_data"
    },
    {
     "name": "stdout",
     "output_type": "stream",
     "text": [
      "Trouser\n"
     ]
    },
    {
     "data": {
      "image/png": "[encoded data removed]",
      "text/plain": [
       "<Figure size 432x288 with 1 Axes>"
      ]
     },
     "metadata": {
      "needs_background": "light"
     },
     "output_type": "display_data"
    },
    {
     "name": "stdout",
     "output_type": "stream",
     "text": [
      "Bag\n"
     ]
    },
    {
     "data": {
      "image/png": "[encoded data removed]",
      "text/plain": [
       "<Figure size 432x288 with 1 Axes>"
      ]
     },
     "metadata": {
      "needs_background": "light"
     },
     "output_type": "display_data"
    },
    {
     "name": "stdout",
     "output_type": "stream",
     "text": [
      "Sandal\n"
     ]
    },
    {
     "data": {
      "image/png": "[encoded data removed]",
      "text/plain": [
       "<Figure size 432x288 with 1 Axes>"
      ]
     },
     "metadata": {
      "needs_background": "light"
     },
     "output_type": "display_data"
    },
    {
     "name": "stdout",
     "output_type": "stream",
     "text": [
      "Bag\n"
     ]
    },
    {
     "data": {
      "image/png": "[encoded data removed]",
      "text/plain": [
       "<Figure size 432x288 with 1 Axes>"
      ]
     },
     "metadata": {
      "needs_background": "light"
     },
     "output_type": "display_data"
    },
    {
     "name": "stdout",
     "output_type": "stream",
     "text": [
      "tshirt/top\n"
     ]
    },
    {
     "data": {
      "image/png": "[encoded data removed]",
      "text/plain": [
       "<Figure size 432x288 with 1 Axes>"
      ]
     },
     "metadata": {
      "needs_background": "light"
     },
     "output_type": "display_data"
    },
    {
     "name": "stdout",
     "output_type": "stream",
     "text": [
      "Bag\n"
     ]
    },
    {
     "data": {
      "image/png": "[encoded data removed]",
      "text/plain": [
       "<Figure size 432x288 with 1 Axes>"
      ]
     },
     "metadata": {
      "needs_background": "light"
     },
     "output_type": "display_data"
    }
   ],
   "source": [
    "\"\"\"\n",
    "Pruebas visuales para verificar qué tal está el modelo. \n",
    "\"\"\"\n",
    "\n",
    "options = ['tshirt/top','Trouser','Pullover','Dress','Coat','Sandal','Shirt','Sneaker','Bag','Ankle Boot']\n",
    "\n",
    "for i in range(10):\n",
    "    number = np.random.randint(1,10000)\n",
    "    prueba = respuestas[-1][:][:,number]\n",
    "    print(options[np.argmax(prueba)])\n",
    "    test = plt.imshow(x_test_ingreso[number].reshape(28,28))\n",
    "    plt.show()"
   ]
  },
  {
   "cell_type": "markdown",
   "metadata": {},
   "source": [
    "# Conclusiones \n",
    "Se puede verificar en la visualización de los resultados que el modelo ha logrado el objetivo satisfactoriamente. La arquitectura que se utilizó fue la de una fully connected neural network con una hidden layer de 2000 neuronas. Aparte de la división por 1000 que se hizo al inicio con los datos lo más importante para que funcionara el modelo fue experimentar con las inicializaciones de los pesos, lo que resultó más conveniente fue utilizar la función de randn de numpy para generar números aleatorios de una distribución estándar normal y a esos se les dividió por 5. Ese número mágico surgio a prueba y error. <br>\n",
    "## Acurracy: 83%"
   ]
  }
 ],
 "metadata": {
  "kernelspec": {
   "display_name": "Python 3",
   "language": "python",
   "name": "python3"
  },
  "language_info": {
   "codemirror_mode": {
    "name": "ipython",
    "version": 3
   },
   "file_extension": ".py",
   "mimetype": "text/x-python",
   "name": "python",
   "nbconvert_exporter": "python",
   "pygments_lexer": "ipython3",
   "version": "3.7.6"
  }
 },
 "nbformat": 4,
 "nbformat_minor": 4
}
